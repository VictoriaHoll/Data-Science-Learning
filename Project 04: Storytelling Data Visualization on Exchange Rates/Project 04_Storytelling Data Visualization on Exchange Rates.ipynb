{
 "cells": [
  {
   "cell_type": "markdown",
   "id": "spare-valley",
   "metadata": {},
   "source": [
    "## Guided Project 04_Storytelling Data Visualization on Exchange Rates"
   ]
  },
  {
   "cell_type": "markdown",
   "id": "native-roommate",
   "metadata": {},
   "source": [
    "If you have ever travelled between the US and Europe, you know that exchange rates can affect your spending power. In the analysis below, we want to understand how the euro-dollar rate changed in the last 20 years."
   ]
  },
  {
   "cell_type": "code",
   "execution_count": 4,
   "id": "romance-latex",
   "metadata": {},
   "outputs": [],
   "source": [
    "# import libraries \n",
    "\n",
    "import pandas as pd\n",
    "import matplotlib.pyplot as plt\n",
    "%matplotlib inline \n",
    "import seaborn as sns\n",
    "sns.set_theme()\n",
    "import matplotlib.style as style\n",
    "import re"
   ]
  },
  {
   "cell_type": "code",
   "execution_count": 5,
   "id": "catholic-danish",
   "metadata": {},
   "outputs": [],
   "source": [
    "# import files and make copies\n",
    "\n",
    "euro_data = pd.read_csv('euro-daily-hist_1999_2020.csv.zip')\n",
    "exchange_rates = euro_data.copy()"
   ]
  },
  {
   "cell_type": "code",
   "execution_count": 6,
   "id": "civilian-impression",
   "metadata": {},
   "outputs": [
    {
     "name": "stdout",
     "output_type": "stream",
     "text": [
      "<class 'pandas.core.frame.DataFrame'>\n",
      "RangeIndex: 5754 entries, 0 to 5753\n",
      "Data columns (total 41 columns):\n",
      " #   Column                    Non-Null Count  Dtype  \n",
      "---  ------                    --------------  -----  \n",
      " 0   Period\\Unit:              5754 non-null   object \n",
      " 1   [Australian dollar ]      5754 non-null   object \n",
      " 2   [Bulgarian lev ]          5352 non-null   object \n",
      " 3   [Brazilian real ]         5486 non-null   object \n",
      " 4   [Canadian dollar ]        5754 non-null   object \n",
      " 5   [Swiss franc ]            5754 non-null   object \n",
      " 6   [Chinese yuan renminbi ]  5486 non-null   object \n",
      " 7   [Cypriot pound ]          2346 non-null   object \n",
      " 8   [Czech koruna ]           5754 non-null   object \n",
      " 9   [Danish krone ]           5754 non-null   object \n",
      " 10  [Estonian kroon ]         3130 non-null   object \n",
      " 11  [UK pound sterling ]      5754 non-null   object \n",
      " 12  [Greek drachma ]          520 non-null    object \n",
      " 13  [Hong Kong dollar ]       5754 non-null   object \n",
      " 14  [Croatian kuna ]          5486 non-null   object \n",
      " 15  [Hungarian forint ]       5754 non-null   object \n",
      " 16  [Indonesian rupiah ]      5754 non-null   object \n",
      " 17  [Israeli shekel ]         5486 non-null   object \n",
      " 18  [Indian rupee ]           5486 non-null   object \n",
      " 19  [Iceland krona ]          3347 non-null   float64\n",
      " 20  [Japanese yen ]           5754 non-null   object \n",
      " 21  [Korean won ]             5754 non-null   object \n",
      " 22  [Lithuanian litas ]       4159 non-null   object \n",
      " 23  [Latvian lats ]           3904 non-null   object \n",
      " 24  [Maltese lira ]           2346 non-null   object \n",
      " 25  [Mexican peso ]           5754 non-null   object \n",
      " 26  [Malaysian ringgit ]      5754 non-null   object \n",
      " 27  [Norwegian krone ]        5754 non-null   object \n",
      " 28  [New Zealand dollar ]     5754 non-null   object \n",
      " 29  [Philippine peso ]        5754 non-null   object \n",
      " 30  [Polish zloty ]           5754 non-null   object \n",
      " 31  [Romanian leu ]           5692 non-null   float64\n",
      " 32  [Russian rouble ]         5754 non-null   object \n",
      " 33  [Swedish krona ]          5754 non-null   object \n",
      " 34  [Singapore dollar ]       5754 non-null   object \n",
      " 35  [Slovenian tolar ]        2085 non-null   object \n",
      " 36  [Slovak koruna ]          2608 non-null   object \n",
      " 37  [Thai baht ]              5754 non-null   object \n",
      " 38  [Turkish lira ]           5692 non-null   float64\n",
      " 39  [US dollar ]              5754 non-null   object \n",
      " 40  [South African rand ]     5754 non-null   object \n",
      "dtypes: float64(3), object(38)\n",
      "memory usage: 1.8+ MB\n"
     ]
    },
    {
     "data": {
      "text/html": [
       "<div>\n",
       "<style scoped>\n",
       "    .dataframe tbody tr th:only-of-type {\n",
       "        vertical-align: middle;\n",
       "    }\n",
       "\n",
       "    .dataframe tbody tr th {\n",
       "        vertical-align: top;\n",
       "    }\n",
       "\n",
       "    .dataframe thead th {\n",
       "        text-align: right;\n",
       "    }\n",
       "</style>\n",
       "<table border=\"1\" class=\"dataframe\">\n",
       "  <thead>\n",
       "    <tr style=\"text-align: right;\">\n",
       "      <th></th>\n",
       "      <th>[Iceland krona ]</th>\n",
       "      <th>[Romanian leu ]</th>\n",
       "      <th>[Turkish lira ]</th>\n",
       "    </tr>\n",
       "  </thead>\n",
       "  <tbody>\n",
       "    <tr>\n",
       "      <th>count</th>\n",
       "      <td>3347.000000</td>\n",
       "      <td>5692.000000</td>\n",
       "      <td>5692.000000</td>\n",
       "    </tr>\n",
       "    <tr>\n",
       "      <th>mean</th>\n",
       "      <td>101.646182</td>\n",
       "      <td>3.877739</td>\n",
       "      <td>2.749620</td>\n",
       "    </tr>\n",
       "    <tr>\n",
       "      <th>std</th>\n",
       "      <td>32.909584</td>\n",
       "      <td>0.863913</td>\n",
       "      <td>1.954428</td>\n",
       "    </tr>\n",
       "    <tr>\n",
       "      <th>min</th>\n",
       "      <td>68.070000</td>\n",
       "      <td>1.291200</td>\n",
       "      <td>0.370100</td>\n",
       "    </tr>\n",
       "    <tr>\n",
       "      <th>25%</th>\n",
       "      <td>81.335000</td>\n",
       "      <td>3.517975</td>\n",
       "      <td>1.686250</td>\n",
       "    </tr>\n",
       "    <tr>\n",
       "      <th>50%</th>\n",
       "      <td>87.970000</td>\n",
       "      <td>4.219750</td>\n",
       "      <td>2.115450</td>\n",
       "    </tr>\n",
       "    <tr>\n",
       "      <th>75%</th>\n",
       "      <td>123.400000</td>\n",
       "      <td>4.485325</td>\n",
       "      <td>3.105300</td>\n",
       "    </tr>\n",
       "    <tr>\n",
       "      <th>max</th>\n",
       "      <td>305.000000</td>\n",
       "      <td>4.889300</td>\n",
       "      <td>10.148900</td>\n",
       "    </tr>\n",
       "  </tbody>\n",
       "</table>\n",
       "</div>"
      ],
      "text/plain": [
       "       [Iceland krona ]  [Romanian leu ]  [Turkish lira ]\n",
       "count       3347.000000      5692.000000      5692.000000\n",
       "mean         101.646182         3.877739         2.749620\n",
       "std           32.909584         0.863913         1.954428\n",
       "min           68.070000         1.291200         0.370100\n",
       "25%           81.335000         3.517975         1.686250\n",
       "50%           87.970000         4.219750         2.115450\n",
       "75%          123.400000         4.485325         3.105300\n",
       "max          305.000000         4.889300        10.148900"
      ]
     },
     "execution_count": 6,
     "metadata": {},
     "output_type": "execute_result"
    }
   ],
   "source": [
    "# getting started\n",
    "\n",
    "exchange_rates.info() \n",
    "# print('Head and Tail Test:', euro.head(), '\\n', '\\n', '\\n', euro.tail())\n",
    "exchange_rates.describe()"
   ]
  },
  {
   "cell_type": "markdown",
   "id": "gross-perry",
   "metadata": {},
   "source": [
    "### Observations:\n",
    "\n",
    "- 41 columns, 5754 rows\n",
    "- There is missing data in various columns\n",
    "- Action: Data types are mostly objects; columns will need to be converted to float64. "
   ]
  },
  {
   "cell_type": "markdown",
   "id": "centered-hundred",
   "metadata": {},
   "source": [
    "# Data Cleaning"
   ]
  },
  {
   "cell_type": "code",
   "execution_count": 10,
   "id": "willing-contemporary",
   "metadata": {},
   "outputs": [
    {
     "name": "stdout",
     "output_type": "stream",
     "text": [
      "      US_dollar     Month        Day\n",
      "Year                                \n",
      "1999   1.065776  6.555985  15.617761\n",
      "2000   0.923613  6.494118  15.752941\n",
      "2001   0.895630  6.480315  15.763780\n",
      "2002   0.945574  6.521569  15.749020\n",
      "2003   1.131160  6.529412  15.760784\n",
      "2004   1.243902  6.575290  15.818533\n",
      "2005   1.244090  6.548638  15.603113\n",
      "2006   1.255599  6.490196  15.764706\n",
      "2007   1.370478  6.501961  15.878431\n",
      "2008   1.470755  6.519531  15.726562\n",
      "2009   1.394782  6.566406  15.796875\n",
      "2010   1.325717  6.596899  15.771318\n",
      "2011   1.391955  6.540856  15.626459\n",
      "2012   1.284789  6.484375  15.867188\n",
      "2013   1.328118  6.521569  15.749020\n",
      "2014   1.328501  6.529412  15.760784\n",
      "2015   1.109513  6.566406  15.851562\n",
      "2016   1.106903  6.552529  15.642023\n",
      "2017   1.129681  6.490196  15.764706\n",
      "2018   1.180955  6.505882  15.811765\n",
      "2019   1.119475  6.517647  15.705882\n",
      "2020   1.142196  6.544747  15.902724\n",
      "2021   1.206340  2.000000  14.500000\n"
     ]
    }
   ],
   "source": [
    "exchange_rates.rename(columns={'[US dollar ]': 'US_dollar',\n",
    "                               'Period\\\\Unit:': 'Time'},\n",
    "                      inplace=True)\n",
    "exchange_rates['Time'] = pd.to_datetime(exchange_rates['Time'])\n",
    "exchange_rates.sort_values('Time', ignore_index=True,\n",
    "                           inplace=True)\n",
    "\n",
    "# US dollar analysis\n",
    "euro_to_dollar = pd.concat([exchange_rates['Time'], exchange_rates['US_dollar']], axis =1)\n",
    "# print(euro_to_dollar.head(), '\\n', '\\n')\n",
    "# print(euro_to_dollar['US_dollar'].value_counts()) # there are several columns with '-' as the designated value, let's drop them\n",
    "\n",
    "euro_to_dollar_bool = euro_to_dollar['US_dollar'] != '-'\n",
    "euro_to_dollar = euro_to_dollar[euro_to_dollar_bool]\n",
    "euro_to_dollar['US_dollar'] = euro_to_dollar['US_dollar'].astype(float)\n",
    "# print(euro_to_dollar.info())\n",
    "\n",
    "euro_to_dollar['Year'] = euro_to_dollar['Time'].dt.year\n",
    "euro_to_dollar['Month'] = euro_to_dollar['Time'].dt.month\n",
    "euro_to_dollar['Day'] = euro_to_dollar['Time'].dt.day\n",
    "\n",
    "\n",
    "# print(euro_to_dollar)\n",
    "\n",
    "# rolling window - let's see how the data breaks down by year, month and week\n",
    "euro_by_year = euro_to_dollar.groupby('Year').mean()\n",
    "euro_by_month = euro_to_dollar.groupby('Month').mean()\n",
    "euro_by_week = euro_to_dollar['US_dollar'].rolling(7).mean()\n",
    "\n",
    "print(euro_by_year)"
   ]
  },
  {
   "cell_type": "markdown",
   "id": "antique-questionnaire",
   "metadata": {},
   "source": [
    "# Data Visualization"
   ]
  },
  {
   "cell_type": "code",
   "execution_count": 15,
   "id": "outside-immigration",
   "metadata": {},
   "outputs": [
    {
     "data": {
      "image/png": "[encoded data removed]",
      "text/plain": [
       "<Figure size 432x288 with 1 Axes>"
      ]
     },
     "metadata": {},
     "output_type": "display_data"
    }
   ],
   "source": [
    "plt.plot(euro_by_year.index, euro_by_year['US_dollar'])\n",
    "plt.title('Euro Value Compared to US Dollar')\n",
    "plt.xlabel('Year')\n",
    "plt.ylabel('US Value')\n",
    "plt.xticks(rotation=30)\n",
    "plt.show()"
   ]
  },
  {
   "cell_type": "markdown",
   "id": "dedicated-bangladesh",
   "metadata": {},
   "source": [
    "# Conclusion"
   ]
  },
  {
   "cell_type": "markdown",
   "id": "identical-klein",
   "metadata": {},
   "source": [
    "The euro-dollar rate experienced considerable lows in the early 2000's, due to immense uncertainty following the US  September 11th Terrorist Attacks. After an eight year ascend, the data shows another drop due to the 2008 financial crisis. This results in a downward trend, with an immense drop on 2015 with the November 2015 Paris attacks coordinated Islamist terrorist. As the war between Russia and Ukraine continues, I expect the euro-dollar rate to decline as the worldstage reaches higher levels of uncertainty. "
   ]
  }
 ],
 "metadata": {
  "kernelspec": {
   "display_name": "Python 3",
   "language": "python",
   "name": "python3"
  },
  "language_info": {
   "codemirror_mode": {
    "name": "ipython",
    "version": 3
   },
   "file_extension": ".py",
   "mimetype": "text/x-python",
   "name": "python",
   "nbconvert_exporter": "python",
   "pygments_lexer": "ipython3",
   "version": "3.8.2"
  }
 },
 "nbformat": 4,
 "nbformat_minor": 5
}
