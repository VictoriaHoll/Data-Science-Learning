{
 "cells": [
  {
   "cell_type": "markdown",
   "id": "oriental-pulse",
   "metadata": {},
   "source": [
    "# Understanding Profitable App Profiles on Apple and Google Markets"
   ]
  },
  {
   "cell_type": "markdown",
   "id": "aerial-collins",
   "metadata": {},
   "source": [
    "In this project, we are interested in the characteristics of apps that attract the most users. High user count is most important for apps whose revenue is based on in-app ads. Our goal is to increase revenue by emulating the most attractive iOS and Andriod apps in theGoogle Play and the Apple Store.\n",
    "\n",
    "A data set containing data about approximately ten thousand Android apps from Google Play. You can download the data set directly from this link.\n",
    "A data set containing data about approximately seven thousand iOS apps from the App Store. You can download the data set directly from this link."
   ]
  },
  {
   "cell_type": "code",
   "execution_count": 2,
   "id": "strange-resistance",
   "metadata": {},
   "outputs": [],
   "source": [
    "# import relevant libraries\n",
    "import pandas as pd\n",
    "import matplotlib.pyplot as plt\n",
    "%matplotlib inline \n",
    "import seaborn as sns\n",
    "sns.set_theme()\n",
    "import matplotlib.style as style\n",
    "import re"
   ]
  },
  {
   "cell_type": "code",
   "execution_count": 3,
   "id": "individual-shore",
   "metadata": {},
   "outputs": [],
   "source": [
    "# open the Apple Store dataset\n",
    "opened_file = pd.read_csv('AppleStore.csv')\n",
    "ios_df = pd.DataFrame(data=opened_file)\n",
    "ios_header = ios_df.columns\n",
    "ios_1 = ios_df.iloc[1:]\n",
    "\n",
    "# open Google Play dataset\n",
    "opened_file = pd.read_csv('googleplaystore.csv')\n",
    "google_df = pd.DataFrame(data=opened_file)\n",
    "google_header = google_df.columns\n",
    "google_1 = google_df.iloc[1:]\n",
    "\n",
    "# create copies of the dataset\n",
    "ios = ios_1.copy()\n",
    "google = google_1.copy()"
   ]
  },
  {
   "cell_type": "markdown",
   "id": "equivalent-expansion",
   "metadata": {},
   "source": [
    "# Data Exploration_Google"
   ]
  },
  {
   "cell_type": "markdown",
   "id": "attractive-sweet",
   "metadata": {},
   "source": [
    "Now we will run the same analysis for the Google Dataset. After running the code below, this is what we learned:\n",
    "- There are 13 columns with a mix of data types: float(1), object(12)\n",
    "- There are 9 features:\"Category\", \"Rating\", \"Reviews\", \"Size\", \"Installs\", \"Type\", \"Price\", \"Content Rating\", \"Genres\"\n",
    "- There are over 1,000 null values under \"Rating\"\n",
    "- There are over 10,000 records in this dataset with an average user rating of 4.19 stars. \n",
    "- Because most of our features contain alphanumeric values, we will have to clean them prior to any additional analysis.\n",
    "\n",
    "Again, I will disable the code for readability. Please feel free to run the code below for your own reference!"
   ]
  },
  {
   "cell_type": "code",
   "execution_count": 23,
   "id": "partial-response",
   "metadata": {},
   "outputs": [
    {
     "name": "stdout",
     "output_type": "stream",
     "text": [
      "<class 'pandas.core.frame.DataFrame'>\n",
      "RangeIndex: 10840 entries, 1 to 10840\n",
      "Data columns (total 15 columns):\n",
      " #   Column          Non-Null Count  Dtype  \n",
      "---  ------          --------------  -----  \n",
      " 0   App             10840 non-null  object \n",
      " 1   Category        10840 non-null  object \n",
      " 2   Rating          9366 non-null   float64\n",
      " 3   Reviews         10840 non-null  object \n",
      " 4   Size            10840 non-null  object \n",
      " 5   Installs        10840 non-null  object \n",
      " 6   Type            10839 non-null  object \n",
      " 7   Price           10840 non-null  object \n",
      " 8   Content Rating  10839 non-null  object \n",
      " 9   Genres          10840 non-null  object \n",
      " 10  Last Updated    10840 non-null  object \n",
      " 11  Current Ver     10832 non-null  object \n",
      " 12  Android Ver     10837 non-null  object \n",
      " 13  Size_Clean      10840 non-null  object \n",
      " 14  Installs_Clean  10840 non-null  object \n",
      "dtypes: float64(1), object(14)\n",
      "memory usage: 1.2+ MB\n",
      "                                                 App        Category  Rating  \\\n",
      "1                                Coloring book moana  ART_AND_DESIGN     3.9   \n",
      "2  U Launcher Lite – FREE Live Cool Themes, Hide ...  ART_AND_DESIGN     4.7   \n",
      "3                              Sketch - Draw & Paint  ART_AND_DESIGN     4.5   \n",
      "4              Pixel Draw - Number Art Coloring Book  ART_AND_DESIGN     4.3   \n",
      "5                         Paper flowers instructions  ART_AND_DESIGN     4.4   \n",
      "\n",
      "  Reviews  Size     Installs  Type Price Content Rating  \\\n",
      "1     967   14M     500,000+  Free     0       Everyone   \n",
      "2   87510  8.7M   5,000,000+  Free     0       Everyone   \n",
      "3  215644   25M  50,000,000+  Free     0           Teen   \n",
      "4     967  2.8M     100,000+  Free     0       Everyone   \n",
      "5     167  5.6M      50,000+  Free     0       Everyone   \n",
      "\n",
      "                      Genres      Last Updated         Current Ver  \\\n",
      "1  Art & Design;Pretend Play  January 15, 2018               2.0.0   \n",
      "2               Art & Design    August 1, 2018               1.2.4   \n",
      "3               Art & Design      June 8, 2018  Varies with device   \n",
      "4    Art & Design;Creativity     June 20, 2018                 1.1   \n",
      "5               Art & Design    March 26, 2017                 1.0   \n",
      "\n",
      "    Android Ver Size_Clean Installs_Clean  \n",
      "1  4.0.3 and up         14         500000  \n",
      "2  4.0.3 and up        8.7        5000000  \n",
      "3    4.2 and up         25       50000000  \n",
      "4    4.4 and up        2.8         100000  \n",
      "5    2.3 and up        5.6          50000  \n"
     ]
    },
    {
     "data": {
      "text/html": [
       "<div>\n",
       "<style scoped>\n",
       "    .dataframe tbody tr th:only-of-type {\n",
       "        vertical-align: middle;\n",
       "    }\n",
       "\n",
       "    .dataframe tbody tr th {\n",
       "        vertical-align: top;\n",
       "    }\n",
       "\n",
       "    .dataframe thead th {\n",
       "        text-align: right;\n",
       "    }\n",
       "</style>\n",
       "<table border=\"1\" class=\"dataframe\">\n",
       "  <thead>\n",
       "    <tr style=\"text-align: right;\">\n",
       "      <th></th>\n",
       "      <th>Rating</th>\n",
       "    </tr>\n",
       "  </thead>\n",
       "  <tbody>\n",
       "    <tr>\n",
       "      <th>count</th>\n",
       "      <td>9366.000000</td>\n",
       "    </tr>\n",
       "    <tr>\n",
       "      <th>mean</th>\n",
       "      <td>4.193348</td>\n",
       "    </tr>\n",
       "    <tr>\n",
       "      <th>std</th>\n",
       "      <td>0.537459</td>\n",
       "    </tr>\n",
       "    <tr>\n",
       "      <th>min</th>\n",
       "      <td>1.000000</td>\n",
       "    </tr>\n",
       "    <tr>\n",
       "      <th>25%</th>\n",
       "      <td>4.000000</td>\n",
       "    </tr>\n",
       "    <tr>\n",
       "      <th>50%</th>\n",
       "      <td>4.300000</td>\n",
       "    </tr>\n",
       "    <tr>\n",
       "      <th>75%</th>\n",
       "      <td>4.500000</td>\n",
       "    </tr>\n",
       "    <tr>\n",
       "      <th>max</th>\n",
       "      <td>19.000000</td>\n",
       "    </tr>\n",
       "  </tbody>\n",
       "</table>\n",
       "</div>"
      ],
      "text/plain": [
       "            Rating\n",
       "count  9366.000000\n",
       "mean      4.193348\n",
       "std       0.537459\n",
       "min       1.000000\n",
       "25%       4.000000\n",
       "50%       4.300000\n",
       "75%       4.500000\n",
       "max      19.000000"
      ]
     },
     "execution_count": 23,
     "metadata": {},
     "output_type": "execute_result"
    }
   ],
   "source": [
    "# google.info()\n",
    "# print(google.head())\n",
    "# google_features = [\"Category\", \"Rating\", \"Reviews\", \"Size\", \"Installs\", \"Type\", \"Price\", \"Content Rating\", \"Genres\"] \n",
    "# google.describe()"
   ]
  },
  {
   "cell_type": "markdown",
   "id": "hearing-hepatitis",
   "metadata": {},
   "source": [
    "# Data Exploration_Apple"
   ]
  },
  {
   "cell_type": "markdown",
   "id": "electronic-authentication",
   "metadata": {},
   "source": [
    "First, we want to understand the features, dtypes, null values, and statistical spread of the Apple Store and Google Play datasets."
   ]
  },
  {
   "cell_type": "markdown",
   "id": "engaged-norfolk",
   "metadata": {},
   "source": [
    "From this initial analysis of the Apple dataset, we know that:\n",
    "- There are 17 columns with a mix of data types: float(3), int64(8), object(6)\n",
    "- There are 10 features:\"size_bytes\", \"price\", \"rating_count_tot\", \"rating_count_ver\", \"user_rating\", \"user_rating_ver\", \"sup_devices.num\", \"ipadSc_urls.num\", \"lang.num\", \"vpp_lic\"\n",
    "- There are over 7000 records in this dataset with an average user rating of 3.52 stars.\n",
    "\n",
    "I will disable the code for readability. Please feel free to run the code below for your own reference!"
   ]
  },
  {
   "cell_type": "code",
   "execution_count": 20,
   "id": "indian-shoot",
   "metadata": {
    "scrolled": true
   },
   "outputs": [],
   "source": [
    "# ios.info() \n",
    "# print(ios.head())\n",
    "# ios_features = [\"size_bytes\", \"price\", \"rating_count_tot\", \"rating_count_ver\", \"user_rating\", \"user_rating_ver\", \"sup_devices.num\", \"ipadSc_urls.num\", \"lang.num\", \"vpp_lic\"]\n",
    "# ios.describe()"
   ]
  },
  {
   "cell_type": "markdown",
   "id": "random-necklace",
   "metadata": {},
   "source": [
    "# Data Cleaning_Google "
   ]
  },
  {
   "cell_type": "markdown",
   "id": "relative-wichita",
   "metadata": {},
   "source": [
    "In exploring the Google dataset, we noted several features contained alphanumeric values and would need to be cleaned. Below are the steps we will take to clean the dataset:\n",
    "\n",
    "- Remove 'M' from Size column\n",
    "- Remove '+' from Installs column\n",
    "- Convert Rating, Reviews, Size, Installs, Price to the float data type\n",
    "    \n",
    "Please see the function created below."
   ]
  },
  {
   "cell_type": "code",
   "execution_count": 25,
   "id": "beginning-punch",
   "metadata": {},
   "outputs": [],
   "source": [
    "replace_characters = [\"M\", \"k\", \"+\", \",\"] # where did I get some of these characters\n",
    "\n",
    "def clean(dataset, column):\n",
    "    dataset_clean = dataset.copy()\n",
    "    dataset_clean[column +\"_Clean\"] = dataset_clean[column].copy()\n",
    "    i = 0\n",
    "    k = len(replace_characters)\n",
    "    while i < k:         \n",
    "        dataset_clean[column +\"_Clean\"] = dataset_clean[column +\"_Clean\"].str.strip().str.replace(replace_characters[i], \"\") \n",
    "        i += 1\n",
    "    return dataset_clean[column +\"_Clean\"].astype(float)"
   ]
  },
  {
   "cell_type": "code",
   "execution_count": null,
   "id": "periodic-spyware",
   "metadata": {},
   "outputs": [],
   "source": [
    "clean(google, \"Size\")\n",
    "clean(google, \"Installs\") \n",
    "\n",
    "# clean ios dataset # remove \"+\"from cont_rating\n",
    "\n",
    "clean(ios, \"cont_rating\")\n",
    "\n",
    "# print('Unique Values in pd series:', google[\"Installs\"].value_counts()) # used this line to understand what non-numerical data was in the column."
   ]
  },
  {
   "cell_type": "code",
   "execution_count": 8,
   "id": "crucial-dealer",
   "metadata": {},
   "outputs": [],
   "source": [
    "# Detect inaccurate data, and correct or remove it. # note: remove row 10472  \n",
    "google_clean = google.drop(10472, axis=0) \n",
    "\n",
    "# no dropping necessary for ios dataset"
   ]
  },
  {
   "cell_type": "code",
   "execution_count": 9,
   "id": "supposed-migration",
   "metadata": {},
   "outputs": [
    {
     "name": "stdout",
     "output_type": "stream",
     "text": [
      "Paid    800\n",
      "Name: Type, dtype: int64\n",
      "0.99      728\n",
      "2.99      683\n",
      "1.99      621\n",
      "4.99      394\n",
      "3.99      277\n",
      "6.99      166\n",
      "9.99       81\n",
      "5.99       52\n",
      "7.99       33\n",
      "14.99      21\n",
      "19.99      13\n",
      "8.99        9\n",
      "24.99       8\n",
      "13.99       6\n",
      "29.99       6\n",
      "11.99       6\n",
      "12.99       5\n",
      "15.99       4\n",
      "17.99       3\n",
      "59.99       3\n",
      "39.99       2\n",
      "22.99       2\n",
      "16.99       2\n",
      "20.99       2\n",
      "49.99       2\n",
      "27.99       2\n",
      "23.99       2\n",
      "74.99       1\n",
      "99.99       1\n",
      "299.99      1\n",
      "18.99       1\n",
      "21.99       1\n",
      "34.99       1\n",
      "249.99      1\n",
      "47.99       1\n",
      "Name: price, dtype: int64\n"
     ]
    }
   ],
   "source": [
    "# Remove apps that aren't free.\n",
    "google_bool = google_clean[\"Type\"] == \"Free\"\n",
    "google_clean2 = google_clean.drop(google_clean.index[(google_bool)],  axis=0)\n",
    "print(google_clean2[\"Type\"].value_counts())\n",
    "\n",
    "ios_bool = ios[\"price\"] == 0\n",
    "ios_clean2 = ios.drop(ios.index[(ios_bool)],  axis=0)\n",
    "print(ios_clean2[\"price\"].value_counts())\n"
   ]
  },
  {
   "cell_type": "code",
   "execution_count": 10,
   "id": "imposed-input",
   "metadata": {},
   "outputs": [
    {
     "name": "stdout",
     "output_type": "stream",
     "text": [
      "                                               App       Category  Rating  \\\n",
      "234  TurboScan: scan documents and receipts in PDF       BUSINESS     4.7   \n",
      "235                 Tiny Scanner Pro: PDF Doc Scan       BUSINESS     4.8   \n",
      "427                             Puffin Browser Pro  COMMUNICATION     4.0   \n",
      "476                      Moco+ - Chat, Meet People         DATING     4.2   \n",
      "477                                     Calculator         DATING     2.6   \n",
      "\n",
      "    Reviews                Size  Installs  Type  Price Content Rating  \\\n",
      "234   11442                6.8M  100,000+  Paid  $4.99       Everyone   \n",
      "235   10295                 39M  100,000+  Paid  $4.99       Everyone   \n",
      "427   18247  Varies with device  100,000+  Paid  $3.99       Everyone   \n",
      "476    1545  Varies with device   10,000+  Paid  $3.99     Mature 17+   \n",
      "477      57                6.2M    1,000+  Paid  $6.99       Everyone   \n",
      "\n",
      "            Genres      Last Updated  Current Ver Android Ver Size_Clean  \\\n",
      "234       Business    March 25, 2018        1.5.2  4.0 and up        6.8   \n",
      "235       Business    April 11, 2017        3.4.6  3.0 and up         39   \n",
      "427  Communication      July 5, 2018  7.5.3.20547  4.1 and up          0   \n",
      "476         Dating     June 19, 2018      2.6.139  4.1 and up          0   \n",
      "477         Dating  October 25, 2017        1.1.6  4.0 and up        6.2   \n",
      "\n",
      "    Installs_Clean  \n",
      "234         100000  \n",
      "235         100000  \n",
      "427         100000  \n",
      "476          10000  \n",
      "477           1000  \n",
      "\n",
      "\n",
      "\n",
      "\n",
      "\n",
      "\n",
      "           id                 track_name  size_bytes currency  price  \\\n",
      "11  362949845        Fruit Ninja Classic   104590336      USD   1.99   \n",
      "17  500116670         Clear Vision (17+)    37879808      USD   0.99   \n",
      "18  479516143  Minecraft: Pocket Edition   147787776      USD   6.99   \n",
      "28  350642635         Plants vs. Zombies   105379840      USD   0.99   \n",
      "37  307727765                Doodle Jump    48741376      USD   0.99   \n",
      "\n",
      "    rating_count_tot  rating_count_ver  user_rating  user_rating_ver     ver  \\\n",
      "11            698516               132          4.5              4.0   2.3.9   \n",
      "17            541693             69225          4.5              4.5   1.1.3   \n",
      "18            522012              1148          4.5              4.5     1.1   \n",
      "28            426463               680          5.0              4.0  1.9.13   \n",
      "37            395261                88          4.5              4.5  3.17.6   \n",
      "\n",
      "   cont_rating prime_genre  sup_devices.num  ipadSc_urls.num  lang.num  \\\n",
      "11          4+       Games               38                5        13   \n",
      "17         17+       Games               43                5         1   \n",
      "18          9+       Games               37                1        11   \n",
      "28          9+       Games               38                0         5   \n",
      "37          4+       Games               37                0         1   \n",
      "\n",
      "    vpp_lic cont_rating_Clean  \n",
      "11        1                 4  \n",
      "17        1                17  \n",
      "18        1                 9  \n",
      "28        1                 9  \n",
      "37        1                 4  \n"
     ]
    }
   ],
   "source": [
    "# Detect duplicate data, and remove the duplicates. # note: check each feature for duplicates\n",
    "google_clean3 = google_clean2.drop_duplicates()\n",
    "print(google_clean3.head())\n",
    "\n",
    "print('\\n')\n",
    "print('\\n')\n",
    "print('\\n')\n",
    "\n",
    "ios_clean3 = ios_clean2.drop_duplicates()\n",
    "print(ios_clean3.head())"
   ]
  },
  {
   "cell_type": "code",
   "execution_count": 11,
   "id": "romantic-republican",
   "metadata": {},
   "outputs": [
    {
     "name": "stdout",
     "output_type": "stream",
     "text": [
      "Camera FV-5                                         2\n",
      "HD Widgets                                          2\n",
      "Human Anatomy Atlas 2018: Complete 3D Human Body    2\n",
      "Dr. Panda & Toto's Treehouse                        2\n",
      "Minecraft                                           2\n",
      "                                                   ..\n",
      "Santa's Monster Shootout DX                         1\n",
      "Deus Ex GO                                          1\n",
      "FVD Ad-Free                                         1\n",
      "End Anxiety Pro - Stress, Panic Attack Help         1\n",
      "DK Primrose for KLWP                                1\n",
      "Name: App, Length: 753, dtype: int64\n",
      "Delicious - Emily's Tea Garden                                                                   1\n",
      "Mystery Tales: The Twilight World - A Hidden Object Adventure (Full)                             1\n",
      "Cytus                                                                                            1\n",
      "Sunny ~ Calm wave & ocean sounds to Sleep Relax Meditate on the beach with rain and sea birds    1\n",
      "The Very Hungry Caterpillar - Creative Play                                                      1\n",
      "                                                                                                ..\n",
      "Get Drunk Not Fat                                                                                1\n",
      "Hatoful Boyfriend                                                                                1\n",
      "Space Marshals 2                                                                                 1\n",
      "Dreamdays Countdown IV: count down to days matter                                                1\n",
      "Monument Valley                                                                                  1\n",
      "Name: track_name, Length: 2961, dtype: int64\n"
     ]
    }
   ],
   "source": [
    "# Remove non-English apps like 爱奇艺PPS -《欢乐颂2》电视剧热播.\n",
    "def is_english(string):\n",
    "    non_ascii = 0\n",
    "    \n",
    "    for character in string:\n",
    "        if ord(character) > 127:\n",
    "            non_ascii += 1\n",
    "    \n",
    "    if non_ascii > 3:\n",
    "        return False\n",
    "    else:\n",
    "        return True\n",
    "     \n",
    "google_cleanbool = google_clean3[\"App\"].apply(is_english)\n",
    "google_clean4 = google_clean3[google_cleanbool]\n",
    "print(google_clean4[\"App\"].value_counts()) # 753 english titles ; 4 non-english titles = 757\n",
    "\n",
    "\n",
    "ios_cleanbool = ios_clean3[\"track_name\"].apply(is_english)\n",
    "ios_clean4 = ios_clean3[ios_cleanbool]\n",
    "print(ios_clean4[\"track_name\"].value_counts()) "
   ]
  },
  {
   "cell_type": "markdown",
   "id": "british-debate",
   "metadata": {},
   "source": [
    "## Let's begin the analysis by getting a sense of the most common genres for each market. For this, we'll build a frequency table # for the prime_genre column of the App Store data set, and the Genres and Category columns of the Google Play data set. "
   ]
  },
  {
   "cell_type": "code",
   "execution_count": 12,
   "id": "overall-stage",
   "metadata": {},
   "outputs": [
    {
     "name": "stdout",
     "output_type": "stream",
     "text": [
      "App Store top genres: \n",
      " Games            1518\n",
      "Education         292\n",
      "Entertainment     195\n",
      "Photo & Video     181\n",
      "Utilities         132\n",
      "Name: prime_genre, dtype: int64\n",
      "\n",
      "\n",
      "\n",
      "\n",
      "Google Store top genres: \n",
      " Medical            84\n",
      "Personalization    82\n",
      "Tools              78\n",
      "Education          29\n",
      "Productivity       28\n",
      "Name: Genres, dtype: int64\n",
      "\n",
      "\n",
      "\n",
      "\n",
      "Google store top categories: \n",
      " FAMILY             186\n",
      "MEDICAL             84\n",
      "GAME                83\n",
      "PERSONALIZATION     82\n",
      "TOOLS               78\n",
      "Name: Category, dtype: int64\n"
     ]
    }
   ],
   "source": [
    "print(\"App Store top genres:\", '\\n', ios_clean4[\"prime_genre\"].value_counts().head()) \n",
    "print('\\n')\n",
    "print('\\n')\n",
    "print(\"Google Store top genres:\", '\\n', google_clean4[\"Genres\"].value_counts().head()) \n",
    "print('\\n')\n",
    "print('\\n')\n",
    "print(\"Google store top categories:\", '\\n', google_clean4[\"Category\"].value_counts().head())"
   ]
  },
  {
   "cell_type": "markdown",
   "id": "native-invite",
   "metadata": {},
   "source": [
    "# Most Popular Apps by Genre on the App Store\n",
    "\n",
    "## One way to find out what genres are the most popular (have the most users) is to calculate the average number of installs for each app genre. For the Google Play data set, we can find this information in the Installs column, but for the App Store data set this information is missing. As a workaround, we'll take the total number of user ratings as a proxy, which we can find in the rating_count_tot app. "
   ]
  },
  {
   "cell_type": "code",
   "execution_count": 13,
   "id": "judicial-gabriel",
   "metadata": {},
   "outputs": [
    {
     "name": "stdout",
     "output_type": "stream",
     "text": [
      "Google installs per genre:\n"
     ]
    },
    {
     "data": {
      "text/plain": [
       "<matplotlib.axes._subplots.AxesSubplot at 0x7fb0d1be6a30>"
      ]
     },
     "execution_count": 13,
     "metadata": {},
     "output_type": "execute_result"
    },
    {
     "data": {
      "image/png": "[encoded data removed]",
      "text/plain": [
       "<Figure size 432x288 with 1 Axes>"
      ]
     },
     "metadata": {},
     "output_type": "display_data"
    }
   ],
   "source": [
    "ios_topgenre = [\"Games\", \"Education\", \"Entertainment\", \"Photo & Video\", \"Utilities\"]\n",
    "google_topgenre = [\"Medical\", \"Personalization\", \"Tools\",\"Education\", \"Books & Reference\"]\n",
    "google_topcategories = [\"FAMILY\", \"MEDICAL\", \"GAME\", \"PERSONALIZATION\", \"TOOLS\"]\n",
    "\n",
    "ios_installs = {}\n",
    "google_installs_genre = {}\n",
    "google_installs_category = {}\n",
    "\n",
    "def install_count(topgenre_list, dictionary, dataset, column_name, installs_name):\n",
    "    for i in topgenre_list:\n",
    "        install_bool = dataset[column_name] == i\n",
    "        dk = dataset[install_bool]\n",
    "        install_avg = dk[installs_name].astype(float).mean()\n",
    "        dictionary[str(i)] = install_avg \n",
    "    return dictionary\n",
    "\n",
    "\n",
    "d_google = install_count(google_topgenre, google_installs_genre, google_clean4, \"Genres\", \"Installs_Clean\")\n",
    "df = pd.DataFrame([d_google], columns=d_google.keys())\n",
    "\n",
    "# print(df)\n",
    "print('Google installs per genre:')\n",
    "df.plot.bar(rot=0)"
   ]
  },
  {
   "cell_type": "code",
   "execution_count": 14,
   "id": "understood-substance",
   "metadata": {},
   "outputs": [
    {
     "name": "stdout",
     "output_type": "stream",
     "text": [
      "Google installs per category:\n"
     ]
    },
    {
     "data": {
      "text/plain": [
       "<matplotlib.axes._subplots.AxesSubplot at 0x7fb0d2085fd0>"
      ]
     },
     "execution_count": 14,
     "metadata": {},
     "output_type": "execute_result"
    },
    {
     "data": {
      "image/png": "[encoded data removed]",
      "text/plain": [
       "<Figure size 432x288 with 1 Axes>"
      ]
     },
     "metadata": {},
     "output_type": "display_data"
    }
   ],
   "source": [
    "d_google_c = install_count(google_topcategories, google_installs_category, google_clean4, \"Category\", \"Installs_Clean\")\n",
    "df_gc = pd.DataFrame([d_google_c], columns=d_google_c.keys())\n",
    "\n",
    "# print(df_gc)\n",
    "print('Google installs per category:')\n",
    "df_gc.plot.bar(rot=0)"
   ]
  },
  {
   "cell_type": "code",
   "execution_count": 15,
   "id": "bronze-vaccine",
   "metadata": {
    "scrolled": true
   },
   "outputs": [
    {
     "name": "stdout",
     "output_type": "stream",
     "text": [
      "Ios rating count total per genre:\n"
     ]
    },
    {
     "data": {
      "text/plain": [
       "<matplotlib.axes._subplots.AxesSubplot at 0x7fb0d2132a30>"
      ]
     },
     "execution_count": 15,
     "metadata": {},
     "output_type": "execute_result"
    },
    {
     "data": {
      "image/png": "[encoded data removed]",
      "text/plain": [
       "<Figure size 432x288 with 1 Axes>"
      ]
     },
     "metadata": {},
     "output_type": "display_data"
    }
   ],
   "source": [
    "d_ios = install_count(ios_topgenre, ios_installs, ios_clean4, \"prime_genre\", \"rating_count_tot\")\n",
    "df_ios = pd.DataFrame([d_ios], columns=d_ios.keys())\n",
    "\n",
    "# print(df_ios)\n",
    "print('Ios rating count total per genre:')\n",
    "df_ios.plot.bar(rot=0)"
   ]
  },
  {
   "cell_type": "markdown",
   "id": "third-broadcast",
   "metadata": {},
   "source": [
    "# Observations / Conclusion\n",
    "\n",
    "## Not suprisingly, apps that are categorized under \"Games\" do the best in Google and App stores. I'm not sure what genre \"Personalization\" fits under, but it could be a genre worth exploring under the App Store."
   ]
  },
  {
   "cell_type": "markdown",
   "id": "aging-hotel",
   "metadata": {},
   "source": [
    "# Next Time \n",
    "\n",
    "## If I were to do this again, I would clean the Installs column for the Apps column and try to do an Installs Count comparison between the google and ios datasets."
   ]
  }
 ],
 "metadata": {
  "kernelspec": {
   "display_name": "Python 3",
   "language": "python",
   "name": "python3"
  },
  "language_info": {
   "codemirror_mode": {
    "name": "ipython",
    "version": 3
   },
   "file_extension": ".py",
   "mimetype": "text/x-python",
   "name": "python",
   "nbconvert_exporter": "python",
   "pygments_lexer": "ipython3",
   "version": "3.8.2"
  }
 },
 "nbformat": 4,
 "nbformat_minor": 5
}
