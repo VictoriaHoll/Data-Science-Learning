{
 "cells": [
  {
   "cell_type": "markdown",
   "id": "interior-assignment",
   "metadata": {},
   "source": [
    "# Profitable App Profiles for the App Store and Google Play Markets"
   ]
  },
  {
   "cell_type": "markdown",
   "id": "promotional-affect",
   "metadata": {},
   "source": [
    "## In this project, we're going to determine what type of apps are likely to attract the most users on Google Play and the App Store.."
   ]
  },
  {
   "cell_type": "code",
   "execution_count": 57,
   "id": "strange-resistance",
   "metadata": {},
   "outputs": [],
   "source": [
    "# import relevant libraries\n",
    "import pandas as pd\n",
    "\n",
    "# open the Apple Store dataset\n",
    "opened_file = pd.read_csv('AppleStore.csv')\n",
    "ios_df = pd.DataFrame(data=opened_file)\n",
    "ios_header = ios_df.columns\n",
    "ios_1 = ios_df.iloc[1:]\n",
    "\n",
    "# open Google Play dataset\n",
    "opened_file = pd.read_csv('googleplaystore.csv')\n",
    "google_df = pd.DataFrame(data=opened_file)\n",
    "google_header = google_df.columns\n",
    "google_1 = google_df.iloc[1:]\n",
    "\n",
    "# create copies of the dataset\n",
    "ios = ios_1.copy()\n",
    "google = google_1.copy()"
   ]
  },
  {
   "cell_type": "code",
   "execution_count": 58,
   "id": "indian-shoot",
   "metadata": {
    "scrolled": true
   },
   "outputs": [
    {
     "name": "stdout",
     "output_type": "stream",
     "text": [
      "<class 'pandas.core.frame.DataFrame'>\n",
      "RangeIndex: 7196 entries, 1 to 7196\n",
      "Data columns (total 16 columns):\n",
      " #   Column            Non-Null Count  Dtype  \n",
      "---  ------            --------------  -----  \n",
      " 0   id                7196 non-null   int64  \n",
      " 1   track_name        7196 non-null   object \n",
      " 2   size_bytes        7196 non-null   int64  \n",
      " 3   currency          7196 non-null   object \n",
      " 4   price             7196 non-null   float64\n",
      " 5   rating_count_tot  7196 non-null   int64  \n",
      " 6   rating_count_ver  7196 non-null   int64  \n",
      " 7   user_rating       7196 non-null   float64\n",
      " 8   user_rating_ver   7196 non-null   float64\n",
      " 9   ver               7196 non-null   object \n",
      " 10  cont_rating       7196 non-null   object \n",
      " 11  prime_genre       7196 non-null   object \n",
      " 12  sup_devices.num   7196 non-null   int64  \n",
      " 13  ipadSc_urls.num   7196 non-null   int64  \n",
      " 14  lang.num          7196 non-null   int64  \n",
      " 15  vpp_lic           7196 non-null   int64  \n",
      "dtypes: float64(3), int64(8), object(5)\n",
      "memory usage: 899.6+ KB\n",
      "          id               track_name  size_bytes currency  price  \\\n",
      "1  389801252                Instagram   113954816      USD    0.0   \n",
      "2  529479190           Clash of Clans   116476928      USD    0.0   \n",
      "3  420009108               Temple Run    65921024      USD    0.0   \n",
      "4  284035177  Pandora - Music & Radio   130242560      USD    0.0   \n",
      "5  429047995                Pinterest    74778624      USD    0.0   \n",
      "\n",
      "   rating_count_tot  rating_count_ver  user_rating  user_rating_ver      ver  \\\n",
      "1           2161558              1289          4.5              4.0    10.23   \n",
      "2           2130805               579          4.5              4.5  9.24.12   \n",
      "3           1724546              3842          4.5              4.0    1.6.2   \n",
      "4           1126879              3594          4.0              4.5    8.4.1   \n",
      "5           1061624              1814          4.5              4.0     6.26   \n",
      "\n",
      "  cont_rating        prime_genre  sup_devices.num  ipadSc_urls.num  lang.num  \\\n",
      "1         12+      Photo & Video               37                0        29   \n",
      "2          9+              Games               38                5        18   \n",
      "3          9+              Games               40                5         1   \n",
      "4         12+              Music               37                4         1   \n",
      "5         12+  Social Networking               37                5        27   \n",
      "\n",
      "   vpp_lic  \n",
      "1        1  \n",
      "2        1  \n",
      "3        1  \n",
      "4        1  \n",
      "5        1  \n"
     ]
    },
    {
     "data": {
      "text/html": [
       "<div>\n",
       "<style scoped>\n",
       "    .dataframe tbody tr th:only-of-type {\n",
       "        vertical-align: middle;\n",
       "    }\n",
       "\n",
       "    .dataframe tbody tr th {\n",
       "        vertical-align: top;\n",
       "    }\n",
       "\n",
       "    .dataframe thead th {\n",
       "        text-align: right;\n",
       "    }\n",
       "</style>\n",
       "<table border=\"1\" class=\"dataframe\">\n",
       "  <thead>\n",
       "    <tr style=\"text-align: right;\">\n",
       "      <th></th>\n",
       "      <th>id</th>\n",
       "      <th>size_bytes</th>\n",
       "      <th>price</th>\n",
       "      <th>rating_count_tot</th>\n",
       "      <th>rating_count_ver</th>\n",
       "      <th>user_rating</th>\n",
       "      <th>user_rating_ver</th>\n",
       "      <th>sup_devices.num</th>\n",
       "      <th>ipadSc_urls.num</th>\n",
       "      <th>lang.num</th>\n",
       "      <th>vpp_lic</th>\n",
       "    </tr>\n",
       "  </thead>\n",
       "  <tbody>\n",
       "    <tr>\n",
       "      <th>count</th>\n",
       "      <td>7.196000e+03</td>\n",
       "      <td>7.196000e+03</td>\n",
       "      <td>7196.000000</td>\n",
       "      <td>7.196000e+03</td>\n",
       "      <td>7196.000000</td>\n",
       "      <td>7196.000000</td>\n",
       "      <td>7196.000000</td>\n",
       "      <td>7196.000000</td>\n",
       "      <td>7196.000000</td>\n",
       "      <td>7196.000000</td>\n",
       "      <td>7196.000000</td>\n",
       "    </tr>\n",
       "    <tr>\n",
       "      <th>mean</th>\n",
       "      <td>8.632114e+08</td>\n",
       "      <td>1.991079e+08</td>\n",
       "      <td>1.726458</td>\n",
       "      <td>1.248132e+04</td>\n",
       "      <td>460.408421</td>\n",
       "      <td>3.526959</td>\n",
       "      <td>3.253544</td>\n",
       "      <td>37.361868</td>\n",
       "      <td>3.707476</td>\n",
       "      <td>5.431629</td>\n",
       "      <td>0.993052</td>\n",
       "    </tr>\n",
       "    <tr>\n",
       "      <th>std</th>\n",
       "      <td>2.711699e+08</td>\n",
       "      <td>3.592248e+08</td>\n",
       "      <td>5.833376</td>\n",
       "      <td>6.721521e+04</td>\n",
       "      <td>3920.726523</td>\n",
       "      <td>1.518053</td>\n",
       "      <td>1.809486</td>\n",
       "      <td>3.737973</td>\n",
       "      <td>1.985886</td>\n",
       "      <td>7.915268</td>\n",
       "      <td>0.083072</td>\n",
       "    </tr>\n",
       "    <tr>\n",
       "      <th>min</th>\n",
       "      <td>2.816565e+08</td>\n",
       "      <td>5.898240e+05</td>\n",
       "      <td>0.000000</td>\n",
       "      <td>0.000000e+00</td>\n",
       "      <td>0.000000</td>\n",
       "      <td>0.000000</td>\n",
       "      <td>0.000000</td>\n",
       "      <td>9.000000</td>\n",
       "      <td>0.000000</td>\n",
       "      <td>0.000000</td>\n",
       "      <td>0.000000</td>\n",
       "    </tr>\n",
       "    <tr>\n",
       "      <th>25%</th>\n",
       "      <td>6.002289e+08</td>\n",
       "      <td>4.691226e+07</td>\n",
       "      <td>0.000000</td>\n",
       "      <td>2.800000e+01</td>\n",
       "      <td>1.000000</td>\n",
       "      <td>3.500000</td>\n",
       "      <td>2.500000</td>\n",
       "      <td>37.000000</td>\n",
       "      <td>3.000000</td>\n",
       "      <td>1.000000</td>\n",
       "      <td>1.000000</td>\n",
       "    </tr>\n",
       "    <tr>\n",
       "      <th>50%</th>\n",
       "      <td>9.781622e+08</td>\n",
       "      <td>9.714637e+07</td>\n",
       "      <td>0.000000</td>\n",
       "      <td>3.000000e+02</td>\n",
       "      <td>23.000000</td>\n",
       "      <td>4.000000</td>\n",
       "      <td>4.000000</td>\n",
       "      <td>37.000000</td>\n",
       "      <td>5.000000</td>\n",
       "      <td>1.000000</td>\n",
       "      <td>1.000000</td>\n",
       "    </tr>\n",
       "    <tr>\n",
       "      <th>75%</th>\n",
       "      <td>1.082381e+09</td>\n",
       "      <td>1.818150e+08</td>\n",
       "      <td>1.990000</td>\n",
       "      <td>2.791500e+03</td>\n",
       "      <td>140.000000</td>\n",
       "      <td>4.500000</td>\n",
       "      <td>4.500000</td>\n",
       "      <td>38.000000</td>\n",
       "      <td>5.000000</td>\n",
       "      <td>8.000000</td>\n",
       "      <td>1.000000</td>\n",
       "    </tr>\n",
       "    <tr>\n",
       "      <th>max</th>\n",
       "      <td>1.188376e+09</td>\n",
       "      <td>4.025970e+09</td>\n",
       "      <td>299.990000</td>\n",
       "      <td>2.161558e+06</td>\n",
       "      <td>177050.000000</td>\n",
       "      <td>5.000000</td>\n",
       "      <td>5.000000</td>\n",
       "      <td>47.000000</td>\n",
       "      <td>5.000000</td>\n",
       "      <td>75.000000</td>\n",
       "      <td>1.000000</td>\n",
       "    </tr>\n",
       "  </tbody>\n",
       "</table>\n",
       "</div>"
      ],
      "text/plain": [
       "                 id    size_bytes        price  rating_count_tot  \\\n",
       "count  7.196000e+03  7.196000e+03  7196.000000      7.196000e+03   \n",
       "mean   8.632114e+08  1.991079e+08     1.726458      1.248132e+04   \n",
       "std    2.711699e+08  3.592248e+08     5.833376      6.721521e+04   \n",
       "min    2.816565e+08  5.898240e+05     0.000000      0.000000e+00   \n",
       "25%    6.002289e+08  4.691226e+07     0.000000      2.800000e+01   \n",
       "50%    9.781622e+08  9.714637e+07     0.000000      3.000000e+02   \n",
       "75%    1.082381e+09  1.818150e+08     1.990000      2.791500e+03   \n",
       "max    1.188376e+09  4.025970e+09   299.990000      2.161558e+06   \n",
       "\n",
       "       rating_count_ver  user_rating  user_rating_ver  sup_devices.num  \\\n",
       "count       7196.000000  7196.000000      7196.000000      7196.000000   \n",
       "mean         460.408421     3.526959         3.253544        37.361868   \n",
       "std         3920.726523     1.518053         1.809486         3.737973   \n",
       "min            0.000000     0.000000         0.000000         9.000000   \n",
       "25%            1.000000     3.500000         2.500000        37.000000   \n",
       "50%           23.000000     4.000000         4.000000        37.000000   \n",
       "75%          140.000000     4.500000         4.500000        38.000000   \n",
       "max       177050.000000     5.000000         5.000000        47.000000   \n",
       "\n",
       "       ipadSc_urls.num     lang.num      vpp_lic  \n",
       "count      7196.000000  7196.000000  7196.000000  \n",
       "mean          3.707476     5.431629     0.993052  \n",
       "std           1.985886     7.915268     0.083072  \n",
       "min           0.000000     0.000000     0.000000  \n",
       "25%           3.000000     1.000000     1.000000  \n",
       "50%           5.000000     1.000000     1.000000  \n",
       "75%           5.000000     8.000000     1.000000  \n",
       "max           5.000000    75.000000     1.000000  "
      ]
     },
     "execution_count": 58,
     "metadata": {},
     "output_type": "execute_result"
    }
   ],
   "source": [
    "ios.info() # what are the features? what are the dtypes? where are the null values? - there are no null values.\n",
    "print(ios.head())\n",
    "ios_features = [\"size_bytes\", \"price\", \"rating_count_tot\", \"rating_count_ver\", \"user_rating\", \"user_rating_ver\", \"sup_devices.num\", \"ipadSc_urls.num\", \"lang.num\", \"vpp_lic\"]\n",
    "ios.describe() # what is the statisical spread of the numerical data?"
   ]
  },
  {
   "cell_type": "code",
   "execution_count": 59,
   "id": "partial-response",
   "metadata": {},
   "outputs": [
    {
     "name": "stdout",
     "output_type": "stream",
     "text": [
      "<class 'pandas.core.frame.DataFrame'>\n",
      "RangeIndex: 10840 entries, 1 to 10840\n",
      "Data columns (total 13 columns):\n",
      " #   Column          Non-Null Count  Dtype  \n",
      "---  ------          --------------  -----  \n",
      " 0   App             10840 non-null  object \n",
      " 1   Category        10840 non-null  object \n",
      " 2   Rating          9366 non-null   float64\n",
      " 3   Reviews         10840 non-null  object \n",
      " 4   Size            10840 non-null  object \n",
      " 5   Installs        10840 non-null  object \n",
      " 6   Type            10839 non-null  object \n",
      " 7   Price           10840 non-null  object \n",
      " 8   Content Rating  10839 non-null  object \n",
      " 9   Genres          10840 non-null  object \n",
      " 10  Last Updated    10840 non-null  object \n",
      " 11  Current Ver     10832 non-null  object \n",
      " 12  Android Ver     10837 non-null  object \n",
      "dtypes: float64(1), object(12)\n",
      "memory usage: 1.1+ MB\n",
      "                                                     App             Category  \\\n",
      "1                                    Coloring book moana       ART_AND_DESIGN   \n",
      "2      U Launcher Lite – FREE Live Cool Themes, Hide ...       ART_AND_DESIGN   \n",
      "3                                  Sketch - Draw & Paint       ART_AND_DESIGN   \n",
      "4                  Pixel Draw - Number Art Coloring Book       ART_AND_DESIGN   \n",
      "5                             Paper flowers instructions       ART_AND_DESIGN   \n",
      "...                                                  ...                  ...   \n",
      "10836                                   Sya9a Maroc - FR               FAMILY   \n",
      "10837                   Fr. Mike Schmitz Audio Teachings               FAMILY   \n",
      "10838                             Parkinson Exercices FR              MEDICAL   \n",
      "10839                      The SCP Foundation DB fr nn5n  BOOKS_AND_REFERENCE   \n",
      "10840      iHoroscope - 2018 Daily Horoscope & Astrology            LIFESTYLE   \n",
      "\n",
      "       Rating Reviews                Size     Installs  Type Price  \\\n",
      "1         3.9     967                 14M     500,000+  Free     0   \n",
      "2         4.7   87510                8.7M   5,000,000+  Free     0   \n",
      "3         4.5  215644                 25M  50,000,000+  Free     0   \n",
      "4         4.3     967                2.8M     100,000+  Free     0   \n",
      "5         4.4     167                5.6M      50,000+  Free     0   \n",
      "...       ...     ...                 ...          ...   ...   ...   \n",
      "10836     4.5      38                 53M       5,000+  Free     0   \n",
      "10837     5.0       4                3.6M         100+  Free     0   \n",
      "10838     NaN       3                9.5M       1,000+  Free     0   \n",
      "10839     4.5     114  Varies with device       1,000+  Free     0   \n",
      "10840     4.5  398307                 19M  10,000,000+  Free     0   \n",
      "\n",
      "      Content Rating                     Genres      Last Updated  \\\n",
      "1           Everyone  Art & Design;Pretend Play  January 15, 2018   \n",
      "2           Everyone               Art & Design    August 1, 2018   \n",
      "3               Teen               Art & Design      June 8, 2018   \n",
      "4           Everyone    Art & Design;Creativity     June 20, 2018   \n",
      "5           Everyone               Art & Design    March 26, 2017   \n",
      "...              ...                        ...               ...   \n",
      "10836       Everyone                  Education     July 25, 2017   \n",
      "10837       Everyone                  Education      July 6, 2018   \n",
      "10838       Everyone                    Medical  January 20, 2017   \n",
      "10839     Mature 17+          Books & Reference  January 19, 2015   \n",
      "10840       Everyone                  Lifestyle     July 25, 2018   \n",
      "\n",
      "              Current Ver         Android Ver  \n",
      "1                   2.0.0        4.0.3 and up  \n",
      "2                   1.2.4        4.0.3 and up  \n",
      "3      Varies with device          4.2 and up  \n",
      "4                     1.1          4.4 and up  \n",
      "5                     1.0          2.3 and up  \n",
      "...                   ...                 ...  \n",
      "10836                1.48          4.1 and up  \n",
      "10837                 1.0          4.1 and up  \n",
      "10838                 1.0          2.2 and up  \n",
      "10839  Varies with device  Varies with device  \n",
      "10840  Varies with device  Varies with device  \n",
      "\n",
      "[10840 rows x 13 columns]\n"
     ]
    },
    {
     "data": {
      "text/html": [
       "<div>\n",
       "<style scoped>\n",
       "    .dataframe tbody tr th:only-of-type {\n",
       "        vertical-align: middle;\n",
       "    }\n",
       "\n",
       "    .dataframe tbody tr th {\n",
       "        vertical-align: top;\n",
       "    }\n",
       "\n",
       "    .dataframe thead th {\n",
       "        text-align: right;\n",
       "    }\n",
       "</style>\n",
       "<table border=\"1\" class=\"dataframe\">\n",
       "  <thead>\n",
       "    <tr style=\"text-align: right;\">\n",
       "      <th></th>\n",
       "      <th>Rating</th>\n",
       "    </tr>\n",
       "  </thead>\n",
       "  <tbody>\n",
       "    <tr>\n",
       "      <th>count</th>\n",
       "      <td>9366.000000</td>\n",
       "    </tr>\n",
       "    <tr>\n",
       "      <th>mean</th>\n",
       "      <td>4.193348</td>\n",
       "    </tr>\n",
       "    <tr>\n",
       "      <th>std</th>\n",
       "      <td>0.537459</td>\n",
       "    </tr>\n",
       "    <tr>\n",
       "      <th>min</th>\n",
       "      <td>1.000000</td>\n",
       "    </tr>\n",
       "    <tr>\n",
       "      <th>25%</th>\n",
       "      <td>4.000000</td>\n",
       "    </tr>\n",
       "    <tr>\n",
       "      <th>50%</th>\n",
       "      <td>4.300000</td>\n",
       "    </tr>\n",
       "    <tr>\n",
       "      <th>75%</th>\n",
       "      <td>4.500000</td>\n",
       "    </tr>\n",
       "    <tr>\n",
       "      <th>max</th>\n",
       "      <td>19.000000</td>\n",
       "    </tr>\n",
       "  </tbody>\n",
       "</table>\n",
       "</div>"
      ],
      "text/plain": [
       "            Rating\n",
       "count  9366.000000\n",
       "mean      4.193348\n",
       "std       0.537459\n",
       "min       1.000000\n",
       "25%       4.000000\n",
       "50%       4.300000\n",
       "75%       4.500000\n",
       "max      19.000000"
      ]
     },
     "execution_count": 59,
     "metadata": {},
     "output_type": "execute_result"
    }
   ],
   "source": [
    "google.info() # what are the features? what are the dtypes? where are the null values? - there are no null values.\n",
    "print(google)\n",
    "google_features = [\"Category\", \"Rating\", \"Reviews\", \"Size\", \"Installs\", \"Type\", \"Price\", \"Content Rating\", \"Genres\"] \n",
    "google.describe() # what is the statisical spread of the numerical data?"
   ]
  },
  {
   "cell_type": "code",
   "execution_count": 65,
   "id": "beginning-punch",
   "metadata": {},
   "outputs": [
    {
     "data": {
      "text/plain": [
       "1       12.0\n",
       "2        9.0\n",
       "3        9.0\n",
       "4       12.0\n",
       "5       12.0\n",
       "        ... \n",
       "7192     4.0\n",
       "7193     9.0\n",
       "7194    12.0\n",
       "7195    12.0\n",
       "7196     4.0\n",
       "Name: cont_rating_Clean, Length: 7196, dtype: float64"
      ]
     },
     "execution_count": 65,
     "metadata": {},
     "output_type": "execute_result"
    }
   ],
   "source": [
    "# clean google dataset \n",
    "# Detect extraneous characters. # note: remove 'M'from Size column, remove \"+\" from Installs\n",
    "zero_characters = [\"Varies with device\", \"Free\"]\n",
    "replace_characters = [\"M\", \"k\", \"+\", \",\"]\n",
    "\n",
    "def clean(dataset, column):\n",
    "    dataset[column +\"_Clean\"] = dataset[column].copy()\n",
    "    i = 0\n",
    "    j = 0\n",
    "    k = len(replace_characters)\n",
    "    p = len(zero_characters)\n",
    "    while i < k:         \n",
    "        dataset[column +\"_Clean\"] = dataset[column +\"_Clean\"].str.strip().str.replace(replace_characters[i], \"\") \n",
    "        i += 1\n",
    "    while j < p:         \n",
    "        dataset[column +\"_Clean\"] = dataset[column +\"_Clean\"].str.strip().str.replace(zero_characters[j], \"0\") \n",
    "        j += 1\n",
    "    return dataset[column +\"_Clean\"].astype(float)\n",
    "\n",
    "clean(google, \"Size\")\n",
    "clean(google, \"Installs\") \n",
    "\n",
    "# clean ios dataset # remove \"+\"from cont_rating\n",
    "\n",
    "clean(ios, \"cont_rating\")\n",
    "\n",
    "# print('Unique Values in pd series:', google[\"Installs\"].value_counts()) # used this line to understand what non-numerical data was in the column."
   ]
  },
  {
   "cell_type": "code",
   "execution_count": 61,
   "id": "crucial-dealer",
   "metadata": {},
   "outputs": [],
   "source": [
    "# Detect inaccurate data, and correct or remove it. # note: remove row 10472  \n",
    "google_clean = google.drop(10472, axis=0) \n",
    "\n",
    "# no dropping necessary for ios dataset"
   ]
  },
  {
   "cell_type": "code",
   "execution_count": 73,
   "id": "supposed-migration",
   "metadata": {},
   "outputs": [
    {
     "name": "stdout",
     "output_type": "stream",
     "text": [
      "Paid    800\n",
      "Name: Type, dtype: int64\n",
      "0.99      728\n",
      "2.99      683\n",
      "1.99      621\n",
      "4.99      394\n",
      "3.99      277\n",
      "6.99      166\n",
      "9.99       81\n",
      "5.99       52\n",
      "7.99       33\n",
      "14.99      21\n",
      "19.99      13\n",
      "8.99        9\n",
      "24.99       8\n",
      "13.99       6\n",
      "29.99       6\n",
      "11.99       6\n",
      "12.99       5\n",
      "15.99       4\n",
      "17.99       3\n",
      "59.99       3\n",
      "39.99       2\n",
      "22.99       2\n",
      "16.99       2\n",
      "20.99       2\n",
      "49.99       2\n",
      "27.99       2\n",
      "23.99       2\n",
      "74.99       1\n",
      "99.99       1\n",
      "299.99      1\n",
      "18.99       1\n",
      "21.99       1\n",
      "34.99       1\n",
      "249.99      1\n",
      "47.99       1\n",
      "Name: price, dtype: int64\n"
     ]
    }
   ],
   "source": [
    "# Remove apps that aren't free.\n",
    "google_bool = google_clean[\"Type\"] == \"Free\"\n",
    "google_clean2 = google_clean.drop(google_clean.index[(google_bool)],  axis=0)\n",
    "print(google_clean2[\"Type\"].value_counts())\n",
    "\n",
    "ios_bool = ios[\"price\"] == 0\n",
    "ios_clean2 = ios.drop(ios.index[(ios_bool)],  axis=0)\n",
    "print(ios_clean2[\"price\"].value_counts())\n"
   ]
  },
  {
   "cell_type": "code",
   "execution_count": 75,
   "id": "imposed-input",
   "metadata": {},
   "outputs": [
    {
     "name": "stdout",
     "output_type": "stream",
     "text": [
      "                                               App       Category  Rating  \\\n",
      "234  TurboScan: scan documents and receipts in PDF       BUSINESS     4.7   \n",
      "235                 Tiny Scanner Pro: PDF Doc Scan       BUSINESS     4.8   \n",
      "427                             Puffin Browser Pro  COMMUNICATION     4.0   \n",
      "476                      Moco+ - Chat, Meet People         DATING     4.2   \n",
      "477                                     Calculator         DATING     2.6   \n",
      "\n",
      "    Reviews                Size  Installs  Type  Price Content Rating  \\\n",
      "234   11442                6.8M  100,000+  Paid  $4.99       Everyone   \n",
      "235   10295                 39M  100,000+  Paid  $4.99       Everyone   \n",
      "427   18247  Varies with device  100,000+  Paid  $3.99       Everyone   \n",
      "476    1545  Varies with device   10,000+  Paid  $3.99     Mature 17+   \n",
      "477      57                6.2M    1,000+  Paid  $6.99       Everyone   \n",
      "\n",
      "            Genres      Last Updated  Current Ver Android Ver Size_Clean  \\\n",
      "234       Business    March 25, 2018        1.5.2  4.0 and up        6.8   \n",
      "235       Business    April 11, 2017        3.4.6  3.0 and up         39   \n",
      "427  Communication      July 5, 2018  7.5.3.20547  4.1 and up          0   \n",
      "476         Dating     June 19, 2018      2.6.139  4.1 and up          0   \n",
      "477         Dating  October 25, 2017        1.1.6  4.0 and up        6.2   \n",
      "\n",
      "    Installs_Clean  \n",
      "234         100000  \n",
      "235         100000  \n",
      "427         100000  \n",
      "476          10000  \n",
      "477           1000  \n",
      "\n",
      "\n",
      "\n",
      "\n",
      "\n",
      "\n",
      "\n",
      "\n",
      "\n",
      "\n",
      "           id                 track_name  size_bytes currency  price  \\\n",
      "11  362949845        Fruit Ninja Classic   104590336      USD   1.99   \n",
      "17  500116670         Clear Vision (17+)    37879808      USD   0.99   \n",
      "18  479516143  Minecraft: Pocket Edition   147787776      USD   6.99   \n",
      "28  350642635         Plants vs. Zombies   105379840      USD   0.99   \n",
      "37  307727765                Doodle Jump    48741376      USD   0.99   \n",
      "\n",
      "    rating_count_tot  rating_count_ver  user_rating  user_rating_ver     ver  \\\n",
      "11            698516               132          4.5              4.0   2.3.9   \n",
      "17            541693             69225          4.5              4.5   1.1.3   \n",
      "18            522012              1148          4.5              4.5     1.1   \n",
      "28            426463               680          5.0              4.0  1.9.13   \n",
      "37            395261                88          4.5              4.5  3.17.6   \n",
      "\n",
      "   cont_rating prime_genre  sup_devices.num  ipadSc_urls.num  lang.num  \\\n",
      "11          4+       Games               38                5        13   \n",
      "17         17+       Games               43                5         1   \n",
      "18          9+       Games               37                1        11   \n",
      "28          9+       Games               38                0         5   \n",
      "37          4+       Games               37                0         1   \n",
      "\n",
      "    vpp_lic cont_rating_Clean  \n",
      "11        1                 4  \n",
      "17        1                17  \n",
      "18        1                 9  \n",
      "28        1                 9  \n",
      "37        1                 4  \n"
     ]
    }
   ],
   "source": [
    "# Detect duplicate data, and remove the duplicates. # note: check each feature for duplicates\n",
    "google_clean3 = google_clean2.drop_duplicates()\n",
    "print(google_clean3.head())\n",
    "\n",
    "print('\\n')\n",
    "print('\\n')\n",
    "print('\\n')\n",
    "\n",
    "ios_clean3 = ios_clean2.drop_duplicates()\n",
    "print(ios_clean3.head())"
   ]
  },
  {
   "cell_type": "code",
   "execution_count": 76,
   "id": "romantic-republican",
   "metadata": {},
   "outputs": [
    {
     "name": "stdout",
     "output_type": "stream",
     "text": [
      "The Game of Life                                    2\n",
      "Human Anatomy Atlas 2018: Complete 3D Human Body    2\n",
      "Minecraft                                           2\n",
      "HD Widgets                                          2\n",
      "Toca Life: City                                     2\n",
      "                                                   ..\n",
      "Pocket Yoga                                         1\n",
      "CZ-38 (vz 38) pistol explained                      1\n",
      "Language Therapy: Aphasia                           1\n",
      "Campervan.Guide Pro                                 1\n",
      "Basket Manager 2017 Pro                             1\n",
      "Name: App, Length: 753, dtype: int64\n",
      "This by Tinrocket                                                           1\n",
      "CHAOS RINGS Ⅲ                                                               1\n",
      "WitchSpring2                                                                1\n",
      "Robbiemoji by Robbie Williams                                               1\n",
      "Batman - The Telltale Series                                                1\n",
      "                                                                           ..\n",
      "Сluster Traffic: Parkour Trucks Pro                                         1\n",
      "Anime Studio Story                                                          1\n",
      "Fear For Sale: Nightmare Cinema HD - A Mystery Hidden Object Game (Full)    1\n",
      "Battle Supremacy: Evolution                                                 1\n",
      "Santa Calls You                                                             1\n",
      "Name: track_name, Length: 2961, dtype: int64\n"
     ]
    }
   ],
   "source": [
    "# Remove non-English apps like 爱奇艺PPS -《欢乐颂2》电视剧热播.\n",
    "def is_english(string):\n",
    "    non_ascii = 0\n",
    "    \n",
    "    for character in string:\n",
    "        if ord(character) > 127:\n",
    "            non_ascii += 1\n",
    "    \n",
    "    if non_ascii > 3:\n",
    "        return False\n",
    "    else:\n",
    "        return True\n",
    "     \n",
    "google_cleanbool = google_clean3[\"App\"].apply(is_english)\n",
    "google_clean4 = google_clean3[google_cleanbool]\n",
    "print(google_clean4[\"App\"].value_counts()) # 753 english titles ; 4 non-english titles = 757\n",
    "\n",
    "\n",
    "ios_cleanbool = ios_clean3[\"track_name\"].apply(is_english)\n",
    "ios_clean4 = ios_clean3[ios_cleanbool]\n",
    "print(ios_clean4[\"track_name\"].value_counts()) "
   ]
  },
  {
   "cell_type": "markdown",
   "id": "british-debate",
   "metadata": {},
   "source": [
    "## Let's begin the analysis by getting a sense of the most common genres for each market. For this, we'll build a frequency table # for the prime_genre column of the App Store data set, and the Genres and Category columns of the Google Play data set. "
   ]
  },
  {
   "cell_type": "code",
   "execution_count": 79,
   "id": "overall-stage",
   "metadata": {},
   "outputs": [
    {
     "name": "stdout",
     "output_type": "stream",
     "text": [
      "App Store top genres: \n",
      " Games            1518\n",
      "Education         292\n",
      "Entertainment     195\n",
      "Photo & Video     181\n",
      "Utilities         132\n",
      "Name: prime_genre, dtype: int64\n",
      "\n",
      "\n",
      "\n",
      "\n",
      "Google Store top genres: \n",
      " Medical              84\n",
      "Personalization      82\n",
      "Tools                78\n",
      "Education            29\n",
      "Books & Reference    28\n",
      "Name: Genres, dtype: int64\n",
      "\n",
      "\n",
      "\n",
      "\n",
      "Googel store top categories: \n",
      " FAMILY             186\n",
      "MEDICAL             84\n",
      "GAME                83\n",
      "PERSONALIZATION     82\n",
      "TOOLS               78\n",
      "Name: Category, dtype: int64\n"
     ]
    }
   ],
   "source": [
    "print(\"App Store top genres:\", '\\n', ios_clean4[\"prime_genre\"].value_counts().head()) \n",
    "print('\\n')\n",
    "print('\\n')\n",
    "print(\"Google Store top genres:\", '\\n', google_clean4[\"Genres\"].value_counts().head()) \n",
    "print('\\n')\n",
    "print('\\n')\n",
    "print(\"Google store top categories:\", '\\n', google_clean4[\"Category\"].value_counts().head())"
   ]
  },
  {
   "cell_type": "markdown",
   "id": "native-invite",
   "metadata": {},
   "source": [
    "# Most Popular Apps by Genre on the App Store\n",
    "\n",
    "## One way to find out what genres are the most popular (have the most users) is to calculate the average number of installs for each app genre. For the Google Play data set, we can find this information in the Installs column, but for the App Store data set this information is missing. As a workaround, we'll take the total number of user ratings as a proxy, which we can find in the rating_count_tot app. "
   ]
  },
  {
   "cell_type": "code",
   "execution_count": 135,
   "id": "judicial-gabriel",
   "metadata": {},
   "outputs": [
    {
     "name": "stdout",
     "output_type": "stream",
     "text": [
      "Google installs per genre:\n"
     ]
    },
    {
     "data": {
      "text/plain": [
       "<matplotlib.axes._subplots.AxesSubplot at 0x7fd9f21f6e20>"
      ]
     },
     "execution_count": 135,
     "metadata": {},
     "output_type": "execute_result"
    },
    {
     "data": {
      "image/png": "[encoded data removed]",
      "text/plain": [
       "<Figure size 432x288 with 1 Axes>"
      ]
     },
     "metadata": {
      "needs_background": "light"
     },
     "output_type": "display_data"
    }
   ],
   "source": [
    "ios_topgenre = [\"Games\", \"Education\", \"Entertainment\", \"Photo & Video\", \"Utilities\"]\n",
    "google_topgenre = [\"Medical\", \"Personalization\", \"Tools\",\"Education\", \"Books & Reference\"]\n",
    "google_topcategories = [\"FAMILY\", \"MEDICAL\", \"GAME\", \"PERSONALIZATION\", \"TOOLS\"]\n",
    "\n",
    "ios_installs = {}\n",
    "google_installs_genre = {}\n",
    "google_installs_category = {}\n",
    "\n",
    "def install_count(topgenre_list, dictionary, dataset, column_name, installs_name):\n",
    "    for i in topgenre_list:\n",
    "        install_bool = dataset[column_name] == i\n",
    "        dk = dataset[install_bool]\n",
    "        install_avg = dk[installs_name].astype(float).mean()\n",
    "        dictionary[str(i)] = install_avg \n",
    "    return dictionary\n",
    "\n",
    "\n",
    "d_google = install_count(google_topgenre, google_installs_genre, google_clean4, \"Genres\", \"Installs_Clean\")\n",
    "df = pd.DataFrame([d_google], columns=d_google.keys())\n",
    "\n",
    "# print(df)\n",
    "print('Google installs per genre:')\n",
    "df.plot.bar(rot=0)"
   ]
  },
  {
   "cell_type": "code",
   "execution_count": 136,
   "id": "understood-substance",
   "metadata": {},
   "outputs": [
    {
     "name": "stdout",
     "output_type": "stream",
     "text": [
      "Google installs per category:\n"
     ]
    },
    {
     "data": {
      "text/plain": [
       "<matplotlib.axes._subplots.AxesSubplot at 0x7fd9f2287850>"
      ]
     },
     "execution_count": 136,
     "metadata": {},
     "output_type": "execute_result"
    },
    {
     "data": {
      "image/png": "[encoded data removed]",
      "text/plain": [
       "<Figure size 432x288 with 1 Axes>"
      ]
     },
     "metadata": {
      "needs_background": "light"
     },
     "output_type": "display_data"
    }
   ],
   "source": [
    "d_google_c = install_count(google_topcategories, google_installs_category, google_clean4, \"Category\", \"Installs_Clean\")\n",
    "df_gc = pd.DataFrame([d_google_c], columns=d_google_c.keys())\n",
    "\n",
    "# print(df_gc)\n",
    "print('Google installs per category:')\n",
    "df_gc.plot.bar(rot=0)"
   ]
  },
  {
   "cell_type": "code",
   "execution_count": 138,
   "id": "bronze-vaccine",
   "metadata": {
    "scrolled": true
   },
   "outputs": [
    {
     "name": "stdout",
     "output_type": "stream",
     "text": [
      "Ios rating count total per genre:\n"
     ]
    },
    {
     "data": {
      "text/plain": [
       "<matplotlib.axes._subplots.AxesSubplot at 0x7fd9f23727c0>"
      ]
     },
     "execution_count": 138,
     "metadata": {},
     "output_type": "execute_result"
    },
    {
     "data": {
      "image/png": "[encoded data removed]",
      "text/plain": [
       "<Figure size 432x288 with 1 Axes>"
      ]
     },
     "metadata": {
      "needs_background": "light"
     },
     "output_type": "display_data"
    }
   ],
   "source": [
    "d_ios = install_count(ios_topgenre, ios_installs, ios_clean4, \"prime_genre\", \"rating_count_tot\")\n",
    "df_ios = pd.DataFrame([d_ios], columns=d_ios.keys())\n",
    "\n",
    "# print(df_ios)\n",
    "print('Ios rating count total per genre:')\n",
    "df_ios.plot.bar(rot=0)"
   ]
  },
  {
   "cell_type": "markdown",
   "id": "third-broadcast",
   "metadata": {},
   "source": [
    "# Observations / Conclusion\n",
    "\n",
    "## Not suprisingly, apps that are categorized under \"Games\" do the best in Google and App stores. I'm not sure what genre \"Personalization\" fits under, but it could be a genre worth exploring under the App Store."
   ]
  },
  {
   "cell_type": "markdown",
   "id": "aging-hotel",
   "metadata": {},
   "source": [
    "# Next Time \n",
    "\n",
    "## If I were to do this again, I would clean the Installs column for the Apps column and try to do an Installs Count comparison between the google and ios datasets."
   ]
  }
 ],
 "metadata": {
  "kernelspec": {
   "display_name": "Python 3",
   "language": "python",
   "name": "python3"
  },
  "language_info": {
   "codemirror_mode": {
    "name": "ipython",
    "version": 3
   },
   "file_extension": ".py",
   "mimetype": "text/x-python",
   "name": "python",
   "nbconvert_exporter": "python",
   "pygments_lexer": "ipython3",
   "version": "3.8.2"
  }
 },
 "nbformat": 4,
 "nbformat_minor": 5
}
