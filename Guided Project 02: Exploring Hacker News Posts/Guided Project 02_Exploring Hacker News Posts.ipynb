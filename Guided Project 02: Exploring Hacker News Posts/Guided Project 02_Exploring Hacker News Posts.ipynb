{
 "cells": [
  {
   "cell_type": "markdown",
   "id": "prompt-rolling",
   "metadata": {},
   "source": [
    "## Guided Project 02_Exploring Hacker News Posts"
   ]
  },
  {
   "cell_type": "markdown",
   "id": "blind-heading",
   "metadata": {},
   "source": [
    "### Project Objective <br>\n",
    "\n",
    "We want to get an idea of how many comments are collected based on certain criteria. Below are the questions we strive to answer: <br>\n",
    "\n",
    "1) Do Ask HN or Show HN receive more comments on average? <br>\n",
    "2) Do posts created at a certain time receive more comments on average?"
   ]
  },
  {
   "cell_type": "markdown",
   "id": "resident-failing",
   "metadata": {},
   "source": [
    "#id: The unique identifier from Hacker News for the post<br>\n",
    "#title: The title of the post<br>\n",
    "#url: The URL that the posts links to, if the post has a URL<br>\n",
    "#num_points: The number of points the post acquired, calculated as the total number of upvotes minus the total number of downvotes<br>\n",
    "#num_comments: The number of comments that were made on the post<br>\n",
    "#author: The username of the person who submitted the post<br>\n",
    "#created_at: The date and time at which the post was submitted<br>"
   ]
  },
  {
   "cell_type": "code",
   "execution_count": 74,
   "id": "round-timing",
   "metadata": {},
   "outputs": [],
   "source": [
    "# import libraries\n",
    "import pandas as pd\n",
    "import matplotlib.pyplot as plt\n",
    "\n",
    "# import files\n",
    "hacker_news = pd.read_csv('HN_posts_year_to_Sep_26_2016.csv') \n",
    "\n",
    "# create copies\n",
    "hacker1 = hacker_news.copy()"
   ]
  },
  {
   "cell_type": "code",
   "execution_count": 75,
   "id": "critical-pulse",
   "metadata": {},
   "outputs": [
    {
     "name": "stdout",
     "output_type": "stream",
     "text": [
      "         id                                              title  \\\n",
      "0  12579008  You have two days to comment if you want stem ...   \n",
      "1  12579005                         SQLAR  the SQLite Archiver   \n",
      "2  12578997  What if we just printed a flatscreen televisio...   \n",
      "3  12578989                                  algorithmic music   \n",
      "4  12578979  How the Data Vault Enables the Next-Gen Data W...   \n",
      "\n",
      "                                                 url  num_points  \\\n",
      "0  http://www.regulations.gov/document?D=FDA-2015...           1   \n",
      "1   https://www.sqlite.org/sqlar/doc/trunk/README.md           1   \n",
      "2  https://medium.com/vanmoof/our-secrets-out-f21...           1   \n",
      "3  http://cacm.acm.org/magazines/2011/7/109891-al...           1   \n",
      "4  https://www.talend.com/blog/2016/05/12/talend-...           1   \n",
      "\n",
      "   num_comments        author      created_at  \n",
      "0             0       altstar  9/26/2016 3:26  \n",
      "1             0      blacksqr  9/26/2016 3:24  \n",
      "2             0  pavel_lishin  9/26/2016 3:19  \n",
      "3             0  poindontcare  9/26/2016 3:16  \n",
      "4             0   markgainor1  9/26/2016 3:14  \n",
      "<class 'pandas.core.frame.DataFrame'>\n",
      "RangeIndex: 293119 entries, 0 to 293118\n",
      "Data columns (total 7 columns):\n",
      " #   Column        Non-Null Count   Dtype \n",
      "---  ------        --------------   ----- \n",
      " 0   id            293119 non-null  int64 \n",
      " 1   title         293119 non-null  object\n",
      " 2   url           279256 non-null  object\n",
      " 3   num_points    293119 non-null  int64 \n",
      " 4   num_comments  293119 non-null  int64 \n",
      " 5   author        293119 non-null  object\n",
      " 6   created_at    293119 non-null  object\n",
      "dtypes: int64(3), object(4)\n",
      "memory usage: 15.7+ MB\n"
     ]
    },
    {
     "data": {
      "text/plain": [
       "id                  0\n",
       "title               0\n",
       "url             13863\n",
       "num_points          0\n",
       "num_comments        0\n",
       "author              0\n",
       "created_at          0\n",
       "dtype: int64"
      ]
     },
     "execution_count": 75,
     "metadata": {},
     "output_type": "execute_result"
    }
   ],
   "source": [
    "# getting started\n",
    "\n",
    "print(hacker1.head())\n",
    "hacker1.info()\n",
    "hacker1.isnull().sum() # url is the only column with NaN values. We can probably drop the 'url' column"
   ]
  },
  {
   "cell_type": "markdown",
   "id": "endless-douglas",
   "metadata": {},
   "source": [
    "To answer the question \"Do Ask HN or Show HN receive more comments on average?\", we are going to:\n",
    "    1) Identify the titles that begin with 'Ask HN' or 'Show HN' \n",
    "    2) Add the number of comments per title type\n",
    "    3) Calculate the average number of comments"
   ]
  },
  {
   "cell_type": "code",
   "execution_count": 76,
   "id": "robust-sudan",
   "metadata": {},
   "outputs": [
    {
     "name": "stdout",
     "output_type": "stream",
     "text": [
      "Ask HN oulined here: \n",
      "               id                                              title  url  \\\n",
      "10      12578908  Ask HN: What TLD do you use for local developm...  NaN   \n",
      "42      12578522  Ask HN: How do you pass on your work when you ...  NaN   \n",
      "76      12577908  Ask HN: How a DNS problem can be limited to a ...  NaN   \n",
      "80      12577870  Ask HN: Why join a fund when you can be an angel?  NaN   \n",
      "102     12577647  Ask HN: Someone uses stock trading as passive ...  NaN   \n",
      "...          ...                                                ...  ...   \n",
      "293047  10177359  Ask HN: Is coursera specialization in product ...  NaN   \n",
      "293052  10177317  Ask HN: Any meteor devs out there who could sp...  NaN   \n",
      "293055  10177309  Ask HN: Any recommendations for books about ra...  NaN   \n",
      "293073  10177200  Ask HN: Where do you look for work if you need...  NaN   \n",
      "293114  10176919        Ask HN: What is/are your favorite quote(s)?  NaN   \n",
      "\n",
      "        num_points  num_comments          author       created_at  \n",
      "10               4             7         Sevrene   9/26/2016 2:53  \n",
      "42               6             3      PascLeRasc   9/26/2016 1:17  \n",
      "76               1             0            kuon  9/25/2016 22:57  \n",
      "80               1             3   anthony_james  9/25/2016 22:48  \n",
      "102              5             2         00taffe  9/25/2016 21:50  \n",
      "...            ...           ...             ...              ...  \n",
      "293047           1             0         pipipzz   9/6/2015 11:27  \n",
      "293052           2             1      louisswiss   9/6/2015 10:52  \n",
      "293055           2             4  rationalthrowa   9/6/2015 10:46  \n",
      "293073          14            20      coroutines    9/6/2015 9:36  \n",
      "293114          15            20        kumarski    9/6/2015 6:02  \n",
      "\n",
      "[9110 rows x 7 columns]\n",
      "\n",
      "\n",
      "\n",
      "\n",
      "\n",
      "\n",
      "Show HN oulined here: \n",
      "               id                                              title  \\\n",
      "52      12578335              Show HN: Finding puns computationally   \n",
      "58      12578182  Show HN: A simple library for complicated anim...   \n",
      "64      12578098      Show HN: WebGL visualization of DNA sequences   \n",
      "70      12577991  Show HN: Pomodoro-centric, heirarchical projec...   \n",
      "140     12577142  Show HN: Jumble  Essays on the go #PaulInYourP...   \n",
      "...          ...                                                ...   \n",
      "292995  10177714  Show HN: Repartee  The SMS Messaging Stack for...   \n",
      "293002  10177631  Show HN: Immutable and type-checked state and ...   \n",
      "293019  10177511  Show HN: MockTheClock  A tiny JavaScript libra...   \n",
      "293028  10177459  Show HN: AppyPaper  Gift wrap with app icons p...   \n",
      "293037  10177421  Show HN: Popularity scoring for arXiv publicat...   \n",
      "\n",
      "                                                      url  num_points  \\\n",
      "52                          http://puns.samueltaylor.org/           2   \n",
      "58       https://christinecha.github.io/choreographer-js/           1   \n",
      "64                     http://grondilu.github.io/dna.html           1   \n",
      "70                       https://github.com/jakebian/zeal           2   \n",
      "140     https://itunes.apple.com/us/app/jumble-find-st...           1   \n",
      "...                                                   ...         ...   \n",
      "292995           https://github.com/markgreenall/Repartee           2   \n",
      "293002              https://github.com/gcanti/redux-tcomb          20   \n",
      "293019                https://github.com/zb3/MockTheClock          18   \n",
      "293028                          http://www.appypaper.com/           6   \n",
      "293037  https://gist.github.com/nebw/5504697c118744677c2d          17   \n",
      "\n",
      "        num_comments         author       created_at  \n",
      "52                 0          saamm   9/26/2016 0:36  \n",
      "58                 0   christinecha   9/26/2016 0:01  \n",
      "64                 0       grondilu  9/25/2016 23:44  \n",
      "70                 0        dbranes  9/25/2016 23:17  \n",
      "140                1         ryderj  9/25/2016 20:06  \n",
      "...              ...            ...              ...  \n",
      "292995             0         Nuratu   9/6/2015 14:21  \n",
      "293002             2         gcanti   9/6/2015 13:50  \n",
      "293019             6            zb3   9/6/2015 13:02  \n",
      "293028             4  submitstartup   9/6/2015 12:38  \n",
      "293037             1           nebw   9/6/2015 12:16  \n",
      "\n",
      "[10141 rows x 7 columns]\n"
     ]
    }
   ],
   "source": [
    "# data analysis\n",
    "ask_posts = []\n",
    "show_posts = []\n",
    "\n",
    "def sort(dataset, column_name):\n",
    "    ask_post1 = dataset[column_name].str.contains(r\"Ask HN:\")\n",
    "    ask_postf = dataset[ask_post1]\n",
    "    show_post1 = dataset[column_name].str.contains(r\"Show HN:\")\n",
    "    show_postf = dataset[show_post1]\n",
    "    result = [ask_postf, show_postf]\n",
    "    return result\n",
    "\n",
    "askhn = sort(hacker1, 'title')[0]\n",
    "showhn = sort(hacker1, 'title')[1]\n",
    "\n",
    "\n",
    "print('Ask HN oulined here:', '\\n',askhn) #9110 'Ask HN' titles identified\n",
    "print('\\n') \n",
    "print('\\n')\n",
    "print('\\n')           \n",
    "print('Show HN oulined here:', '\\n', showhn) #10141 'SHOW HN' titles identified"
   ]
  },
  {
   "cell_type": "code",
   "execution_count": 77,
   "id": "altered-district",
   "metadata": {},
   "outputs": [
    {
     "name": "stdout",
     "output_type": "stream",
     "text": [
      "Average comment count for Ask HN: 10.41\n",
      "Average comment count for Show HN: 4.89\n",
      "The comment count for Ask HN is 2.13 times greater than Show HN\n"
     ]
    }
   ],
   "source": [
    "avgcomments_ask = askhn[\"num_comments\"].sum()/askhn.shape[0]\n",
    "print('Average comment count for Ask HN:', avgcomments_ask.round(2))\n",
    "\n",
    "avgcomments_show = showhn[\"num_comments\"].sum()/showhn.shape[0]\n",
    "print('Average comment count for Show HN:', avgcomments_show.round(2))\n",
    "\n",
    "ask_v_show = avgcomments_ask/avgcomments_show\n",
    "print('The comment count for Ask HN is', ask_v_show.round(2), 'times greater than Show HN')"
   ]
  },
  {
   "cell_type": "markdown",
   "id": "occasional-secretariat",
   "metadata": {},
   "source": [
    "To answer the question \"Do posts created at a certain time receive more comments on average?\", we are going to:\n",
    "    1) Split the column between date and time\n",
    "    2) Identify the unique times outlined in the data\n",
    "    3) Add the number of comments per time period\n",
    "    4) Calculate the average number of comments per time period \n",
    "    5) Graph the result"
   ]
  },
  {
   "cell_type": "code",
   "execution_count": 78,
   "id": "brave-model",
   "metadata": {
    "scrolled": true
   },
   "outputs": [
    {
     "data": {
      "image/png": "[encoded data removed]",
      "text/plain": [
       "<Figure size 432x288 with 1 Axes>"
      ]
     },
     "metadata": {
      "needs_background": "light"
     },
     "output_type": "display_data"
    }
   ],
   "source": [
    "pattern1 = r\"([0-9]*/[0-9]*/[0-9]*)\"\n",
    "pattern2 = r\"([0-9]*:[0-9]*)\"\n",
    "pattern3 = r\"([0-9]*)\"\n",
    "\n",
    "hacker1[\"date\"] = hacker1[\"created_at\"].str.extract(pattern1)\n",
    "hacker1[\"time\"] = hacker1[\"created_at\"].str.extract(pattern2)\n",
    "hacker1[\"hour\"] = hacker1[\"time\"].str.extract(pattern3)\n",
    "hacker1[\"hour_pad\"] = hacker1[\"hour\"].str.pad(2, fillchar='0')\n",
    "\n",
    "avg = hacker1.groupby(\"hour_pad\")['num_comments'].mean()\n",
    "avg_sort = avg.sort_index(axis = 0) \n",
    "\n",
    "avg_sort.plot.bar()\n",
    "plt.xlabel('Hour')\n",
    "plt.ylabel('Comment Count')\n",
    "plt.show()"
   ]
  },
  {
   "cell_type": "markdown",
   "id": "funded-brazil",
   "metadata": {},
   "source": [
    "# Conclusion\n",
    "\n",
    "In answering the questions proposed, we determined that: <br>\n",
    "\n",
    "1) Do Ask HN or Show HN receive more comments on average? <br>\n",
    "\n",
    "    Average comment count for Ask HN: 10.41 <br>\n",
    "    Average comment count for Show HN: 4.89 <br>\n",
    "    The comment count for Ask HN is 2.13 times greater than Show HN <br>\n",
    "\n",
    "2) Do posts created at a certain time receive more comments on average?\n",
    "\n",
    "    Posts created between 11AM and 1PM receive more comments on average. "
   ]
  }
 ],
 "metadata": {
  "kernelspec": {
   "display_name": "Python 3",
   "language": "python",
   "name": "python3"
  },
  "language_info": {
   "codemirror_mode": {
    "name": "ipython",
    "version": 3
   },
   "file_extension": ".py",
   "mimetype": "text/x-python",
   "name": "python",
   "nbconvert_exporter": "python",
   "pygments_lexer": "ipython3",
   "version": "3.8.2"
  }
 },
 "nbformat": 4,
 "nbformat_minor": 5
}
